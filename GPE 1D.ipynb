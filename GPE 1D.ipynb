{
  "cells": [
    {
      "cell_type": "markdown",
      "source": [
        "This code is to try to do the CrankNicolson in 1D"
      ],
      "metadata": {
        "id": "vIhTnXnAhNFY"
      },
      "id": "vIhTnXnAhNFY"
    },
    {
      "cell_type": "code",
      "execution_count": 16,
      "id": "31442f60-319d-4fd2-8780-67fb42b3fadb",
      "metadata": {
        "id": "31442f60-319d-4fd2-8780-67fb42b3fadb",
        "colab": {
          "base_uri": "https://localhost:8080/",
          "height": 53
        },
        "outputId": "6f60aa84-e1da-49c7-ad41-a8b7cf099ebe"
      },
      "outputs": [
        {
          "output_type": "execute_result",
          "data": {
            "text/plain": [
              "'            \\n    def H1Step(self,dt):\\n        \"\"\"Make a step dt forward in time for i*du/dt = w*x^2/4 + N.u^2\"\"\"\\n        self.u = self.u * np.exp(-1j*(self.w*self.x**2/4 + self.N * abs(self.u)**2) * dt)\\n'"
            ],
            "application/vnd.google.colaboratory.intrinsic+json": {
              "type": "string"
            }
          },
          "metadata": {},
          "execution_count": 16
        }
      ],
      "source": [
        "%matplotlib inline\n",
        "import numpy as np\n",
        "import matplotlib.pyplot as plt\n",
        "import scipy.sparse\n",
        "import scipy.linalg as la\n",
        "\n",
        "class GPE1D:\n",
        "    \"\"\"A class that solves  [- d^2(u)/(dt)^2 + w*x^2 + N.u^2 - j. du/dt] = 0\n",
        "    Spectral stepping method for solving PDEs\"\"\"\n",
        "    def __init__(self, Nx, N, L,w):\n",
        "        \"\"\"Initialize the spatial and spectral grids\"\"\"\n",
        "        self.Nx = Nx\n",
        "        self.N = N\n",
        "        self.L = L\n",
        "        self.w = w\n",
        "        self.x, self.dx = np.linspace(0, self.L, self.Nx, retstep=True)\n",
        "        self.k = 2*np.pi*np.fft.fftfreq(self.Nx, d=self.dx)        \n",
        "        self.u = np.zeros(Nx,dtype = complex)\n",
        "        \n",
        "    def initialize(self, func):\n",
        "        \"\"\"Set the initial condition\"\"\"\n",
        "        self.u = func(self.x)\n",
        "        \n",
        "    def FourierStep(self, dt):\n",
        "        \"\"\"Make a step dt forward in time for i*du/dt = -d^2(u)/dt^2\"\"\"\n",
        "        uk = np.fft.fft(self.u)\n",
        "        uk = np.exp(-self.k**2 * dt*1j)*uk\n",
        "        self.u = np.fft.ifft(uk)\n",
        "\n",
        "    def H1Step(self,dt):  #methode runga kutta ordre 4\n",
        "        \"\"\"Make a step dt forward in time for i*du/dt = [w*x^2/4 + N.u^2]*u\"\"\"\n",
        "        for i in range(self.Nx):\n",
        "            k1 = -1j*(self.w*self.x[i]**2/4 + self.N * abs(self.u[i])**2)*dt* self.u[i]\n",
        "            k2 = -1j*(self.w*self.x[i]**2/4 + self.N * abs(self.u[i]+k1/2)**2)*dt* (self.u[i]+k1/2)\n",
        "            k3 = -1j*(self.w*self.x[i]**2/4 + self.N * abs(self.u[i]+k2/2)**2)*dt* (self.u[i]+k2/2)\n",
        "            k4 = -1j*(self.w*self.x[i]**2/4 + self.N * abs(self.u[i]+k3)**2)*dt* (self.u[i]+k3)\n",
        "            self.u[i] += k1/6 + k2/3 + k3/3 + k4/6 \n",
        "    def step(self,dt):\n",
        "        \"\"\"Make a step dt forward in time for i*du/dt = H.u\"\"\"\n",
        "        self.FourierStep(dt)\n",
        "        self.H1Step(dt)\n",
        "\n",
        "'''            \n",
        "    def H1Step(self,dt):\n",
        "        \"\"\"Make a step dt forward in time for i*du/dt = w*x^2/4 + N.u^2\"\"\"\n",
        "        self.u = self.u * np.exp(-1j*(self.w*self.x**2/4 + self.N * abs(self.u)**2) * dt)\n",
        "'''        \n"
      ]
    },
    {
      "cell_type": "code",
      "source": [
        "def advance(GPE, T, Nt):\n",
        "    dt = T / Nt\n",
        "    for _ in range(Nt):\n",
        "        GPE.step(dt)"
      ],
      "metadata": {
        "id": "lb3m9G8t6P_h"
      },
      "id": "lb3m9G8t6P_h",
      "execution_count": 17,
      "outputs": []
    },
    {
      "cell_type": "code",
      "source": [
        "class Gaussian:\n",
        "    \"\"\"Gaussian function\"\"\"\n",
        "    def __init__(self, width, amplitude, x0):\n",
        "        \"\"\"Create Gaussian with the given width and amplitude, centered at x = x0\"\"\"\n",
        "        self.width = width\n",
        "        self.amp = amplitude\n",
        "        self.x0 = x0\n",
        "        \n",
        "    def __call__(self, x):\n",
        "        \"\"\"Evaluate the function for the values of x\"\"\"\n",
        "        return self.amp * np.exp(-(x-self.x0)**2 / self.width**2)\n",
        "# create a Gaussian object\n",
        "gauss = Gaussian(8.87, 0.3, 250)"
      ],
      "metadata": {
        "id": "XYIc7v246SKk"
      },
      "id": "XYIc7v246SKk",
      "execution_count": 18,
      "outputs": []
    },
    {
      "cell_type": "code",
      "source": [
        "#Test for w = 0, N = 0\n",
        "w = 0           #Valeur de w dans l'equation\n",
        "N = 0         #Valeur de N dans l'equation\n",
        "Nx = 1000      #Nombre de pas de x\n",
        "L = 500        #x_max\n",
        "Nt = 40      #Nombre de pas de temps\n",
        "T = 5         #Temps total\n",
        "NT = 2        #Nombre de pas de T\n",
        "GPE = GPE1D(Nx,N,L,w)\n",
        "GPE.initialize(gauss)\n",
        "advance(GPE,T,Nt)\n",
        "x = GPE.x\n",
        "\n",
        "fig, ax = plt.subplots(NT+1,figsize=(6, 2*NT))\n",
        "ax[0].plot(x, gauss(x), label='u(t=0)')\n",
        "ax[0].set_xlabel('x [cm]')\n",
        "ax[0].set_ylabel('amplitude')\n",
        "for i in range(NT):\n",
        "    advance(GPE,T,Nt)\n",
        "    ax[i+1].plot(x, abs(GPE.u))"
      ],
      "metadata": {
        "colab": {
          "base_uri": "https://localhost:8080/",
          "height": 265
        },
        "id": "Ol1S3TYA6TvI",
        "outputId": "a4ed8099-4f45-41a4-d276-cbbd5c6c2ee1"
      },
      "id": "Ol1S3TYA6TvI",
      "execution_count": 20,
      "outputs": [
        {
          "output_type": "display_data",
          "data": {
            "text/plain": [
              "<Figure size 432x288 with 3 Axes>"
            ],
            "image/png": "[encoded data removed]"
          },
          "metadata": {
            "needs_background": "light"
          }
        }
      ]
    },
    {
      "cell_type": "code",
      "source": [],
      "metadata": {
        "id": "o2CE6qV085NF"
      },
      "id": "o2CE6qV085NF",
      "execution_count": null,
      "outputs": []
    }
  ],
  "metadata": {
    "kernelspec": {
      "display_name": "Python 3 (ipykernel)",
      "language": "python",
      "name": "python3"
    },
    "language_info": {
      "codemirror_mode": {
        "name": "ipython",
        "version": 3
      },
      "file_extension": ".py",
      "mimetype": "text/x-python",
      "name": "python",
      "nbconvert_exporter": "python",
      "pygments_lexer": "ipython3",
      "version": "3.10.6"
    },
    "colab": {
      "provenance": []
    }
  },
  "nbformat": 4,
  "nbformat_minor": 5
}