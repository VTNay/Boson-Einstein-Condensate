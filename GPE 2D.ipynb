{
 "cells": [
  {
   "cell_type": "markdown",
   "id": "22def39d-2973-4741-a106-677c39288278",
   "metadata": {},
   "source": [
    "This program is to try to solve GrossPitaevskii equation by using Crank-Nicholson in 2D"
   ]
  },
  {
   "cell_type": "code",
   "execution_count": null,
   "id": "2d36c6fb-78b3-4240-a1a9-b41129f20b7b",
   "metadata": {},
   "outputs": [],
   "source": [
    "%matplotlib inline\n",
    "import numpy as np\n",
    "import matplotlib.pyplot as plt\n",
    "import scipy.sparse\n",
    "import scipy.linalg as la\n",
    "\n",
    "class CrankNicolson2D:"
   ]
  }
 ],
 "metadata": {
  "kernelspec": {
   "display_name": "Python 3 (ipykernel)",
   "language": "python",
   "name": "python3"
  },
  "language_info": {
   "codemirror_mode": {
    "name": "ipython",
    "version": 3
   },
   "file_extension": ".py",
   "mimetype": "text/x-python",
   "name": "python",
   "nbconvert_exporter": "python",
   "pygments_lexer": "ipython3",
   "version": "3.10.6"
  }
 },
 "nbformat": 4,
 "nbformat_minor": 5
}
